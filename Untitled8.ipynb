{
 "cells": [
  {
   "cell_type": "code",
   "execution_count": 2,
   "id": "716e7dae-a639-4b1e-bc96-f33fb6423ca1",
   "metadata": {},
   "outputs": [
    {
     "name": "stdout",
     "output_type": "stream",
     "text": [
      "Collecting gTTS\n",
      "  Downloading gTTS-2.5.4-py3-none-any.whl.metadata (4.1 kB)\n",
      "Requirement already satisfied: requests<3,>=2.27 in c:\\users\\kesha\\anaconda3\\lib\\site-packages (from gTTS) (2.32.3)\n",
      "Requirement already satisfied: click<8.2,>=7.1 in c:\\users\\kesha\\anaconda3\\lib\\site-packages (from gTTS) (8.1.7)\n",
      "Requirement already satisfied: colorama in c:\\users\\kesha\\anaconda3\\lib\\site-packages (from click<8.2,>=7.1->gTTS) (0.4.6)\n",
      "Requirement already satisfied: charset-normalizer<4,>=2 in c:\\users\\kesha\\anaconda3\\lib\\site-packages (from requests<3,>=2.27->gTTS) (3.3.2)\n",
      "Requirement already satisfied: idna<4,>=2.5 in c:\\users\\kesha\\anaconda3\\lib\\site-packages (from requests<3,>=2.27->gTTS) (3.7)\n",
      "Requirement already satisfied: urllib3<3,>=1.21.1 in c:\\users\\kesha\\anaconda3\\lib\\site-packages (from requests<3,>=2.27->gTTS) (2.2.3)\n",
      "Requirement already satisfied: certifi>=2017.4.17 in c:\\users\\kesha\\anaconda3\\lib\\site-packages (from requests<3,>=2.27->gTTS) (2024.12.14)\n",
      "Downloading gTTS-2.5.4-py3-none-any.whl (29 kB)\n",
      "Installing collected packages: gTTS\n",
      "Successfully installed gTTS-2.5.4\n"
     ]
    }
   ],
   "source": [
    "!pip install gTTS"
   ]
  },
  {
   "cell_type": "code",
   "execution_count": 3,
   "id": "aa20a24d-cf37-461c-bb78-2fef32429b5e",
   "metadata": {},
   "outputs": [],
   "source": [
    "from gtts import gTTS"
   ]
  },
  {
   "cell_type": "code",
   "execution_count": 6,
   "id": "1aa75947-da41-4781-97d4-7b38d750d753",
   "metadata": {},
   "outputs": [],
   "source": [
    "convert=gTTS(text=\"I like  this nlp.How about dude!\", lang= \"en\",slow=False)\n",
    "convert.save(\"audio.mp3\")"
   ]
  },
  {
   "cell_type": "code",
   "execution_count": 10,
   "id": "0af6d058-2b05-4efb-a692-7ebba94d1c07",
   "metadata": {},
   "outputs": [
    {
     "name": "stdout",
     "output_type": "stream",
     "text": [
      "Collecting pyttsx3\n",
      "  Downloading pyttsx3-2.98-py3-none-any.whl.metadata (3.8 kB)\n",
      "Collecting comtypes (from pyttsx3)\n",
      "  Downloading comtypes-1.4.10-py3-none-any.whl.metadata (7.2 kB)\n",
      "Collecting pypiwin32 (from pyttsx3)\n",
      "  Downloading pypiwin32-223-py3-none-any.whl.metadata (236 bytes)\n",
      "Requirement already satisfied: pywin32 in c:\\users\\kesha\\anaconda3\\lib\\site-packages (from pyttsx3) (305.1)\n",
      "Downloading pyttsx3-2.98-py3-none-any.whl (34 kB)\n",
      "Downloading comtypes-1.4.10-py3-none-any.whl (241 kB)\n",
      "Downloading pypiwin32-223-py3-none-any.whl (1.7 kB)\n",
      "Installing collected packages: pypiwin32, comtypes, pyttsx3\n",
      "Successfully installed comtypes-1.4.10 pypiwin32-223 pyttsx3-2.98\n"
     ]
    }
   ],
   "source": [
    "!pip3 install pyttsx3"
   ]
  },
  {
   "cell_type": "code",
   "execution_count": 11,
   "id": "6840dd78-f704-4d59-af31-1cb78ac6a155",
   "metadata": {},
   "outputs": [],
   "source": [
    "import pyttsx3, time \n",
    "engine = pyttsx3.init() \n",
    "engine.say(\"Hi, I am text to speach\") \n",
    "engine.runAndWait()"
   ]
  },
  {
   "cell_type": "code",
   "execution_count": 12,
   "id": "0f2a5578-480f-4909-894e-86bd873fb892",
   "metadata": {},
   "outputs": [],
   "source": [
    "text=['This is introduction to NLP','It is likely to be useful, to people ',\\\n",
    "'Machine learning is the new electrcity','There would be less hype around AI and more action going forward',\\\n",
    "'python is the best tool!','R is good langauage','I like this book',\\\n",
    "'I want more books like this']"
   ]
  },
  {
   "cell_type": "code",
   "execution_count": 13,
   "id": "a791bdb3-282d-468f-9b3a-3a6d41919eb0",
   "metadata": {},
   "outputs": [],
   "source": [
    "engine = pyttsx3.init() \n",
    "engine.say(text) \n",
    "engine.runAndWait()"
   ]
  },
  {
   "cell_type": "code",
   "execution_count": 20,
   "id": "f46f1843-3f98-4da0-a434-b8b1424841b5",
   "metadata": {},
   "outputs": [
    {
     "name": "stdout",
     "output_type": "stream",
     "text": [
      "180\n",
      "1.0\n"
     ]
    }
   ],
   "source": [
    "import pyttsx3\n",
    "engine = pyttsx3.init() \n",
    "\"\"\" RATE\"\"\"\n",
    "rate = engine.getProperty('rate')  \n",
    "print (rate)                       \n",
    "engine.setProperty('rate', 180)     \n",
    "\"\"\"VOLUME\"\"\"\n",
    "volume = engine.getProperty('volume')   \n",
    "print (volume)                         \n",
    "engine.setProperty('volume',1.0)    \n",
    "\"\"\"VOICE\"\"\"\n",
    "voices = engine.getProperty('voices')       \n",
    "engine.setProperty('voice', voices[1].id)   \n",
    "engine.say(\"Hello World!\")\n",
    "engine.say('My current speaking rate is ' + str(rate))\n",
    "engine.say('My current speaking volume is ' + str(volume))\n",
    "engine.stop()"
   ]
  },
  {
   "cell_type": "code",
   "execution_count": 21,
   "id": "0b7766f6-e08c-48f9-87ca-e11dd2768f76",
   "metadata": {},
   "outputs": [
    {
     "name": "stdout",
     "output_type": "stream",
     "text": [
      "Collecting translate\n",
      "  Downloading translate-3.6.1-py2.py3-none-any.whl.metadata (7.7 kB)\n",
      "Requirement already satisfied: click in c:\\users\\kesha\\anaconda3\\lib\\site-packages (from translate) (8.1.7)\n",
      "Requirement already satisfied: lxml in c:\\users\\kesha\\anaconda3\\lib\\site-packages (from translate) (5.3.1)\n",
      "Requirement already satisfied: requests in c:\\users\\kesha\\anaconda3\\lib\\site-packages (from translate) (2.32.3)\n",
      "Collecting libretranslatepy==2.1.1 (from translate)\n",
      "  Downloading libretranslatepy-2.1.1-py3-none-any.whl.metadata (233 bytes)\n",
      "Requirement already satisfied: colorama in c:\\users\\kesha\\anaconda3\\lib\\site-packages (from click->translate) (0.4.6)\n",
      "Requirement already satisfied: charset-normalizer<4,>=2 in c:\\users\\kesha\\anaconda3\\lib\\site-packages (from requests->translate) (3.3.2)\n",
      "Requirement already satisfied: idna<4,>=2.5 in c:\\users\\kesha\\anaconda3\\lib\\site-packages (from requests->translate) (3.7)\n",
      "Requirement already satisfied: urllib3<3,>=1.21.1 in c:\\users\\kesha\\anaconda3\\lib\\site-packages (from requests->translate) (2.2.3)\n",
      "Requirement already satisfied: certifi>=2017.4.17 in c:\\users\\kesha\\anaconda3\\lib\\site-packages (from requests->translate) (2024.12.14)\n",
      "Downloading translate-3.6.1-py2.py3-none-any.whl (12 kB)\n",
      "Downloading libretranslatepy-2.1.1-py3-none-any.whl (3.2 kB)\n",
      "Installing collected packages: libretranslatepy, translate\n",
      "Successfully installed libretranslatepy-2.1.1 translate-3.6.1\n"
     ]
    }
   ],
   "source": [
    "!pip install translate"
   ]
  },
  {
   "cell_type": "code",
   "execution_count": 30,
   "id": "0136b53f-0102-468b-9f64-b6f57031d41a",
   "metadata": {},
   "outputs": [
    {
     "data": {
      "text/plain": [
       "'హోలో వంశీ! మీరు ఎలా ఉన్నారు? రోజు ఎలా ఉంది?'"
      ]
     },
     "execution_count": 30,
     "metadata": {},
     "output_type": "execute_result"
    }
   ],
   "source": [
    "from translate import Translator\n",
    "translator= Translator(to_lang=\"te\")\n",
    "translation = translator.translate(\"Hlo Vamshi! How u are? how's the day going\")\n",
    "translation"
   ]
  },
  {
   "cell_type": "code",
   "execution_count": 33,
   "id": "195731cc-d4ba-4232-9611-76504a18b892",
   "metadata": {},
   "outputs": [
    {
     "data": {
      "text/plain": [
       "'O tsogile jang?'"
      ]
     },
     "execution_count": 33,
     "metadata": {},
     "output_type": "execute_result"
    }
   ],
   "source": [
    "from translate import Translator\n",
    "translator= Translator(to_lang=\"tn\")\n",
    "translation = translator.translate(\"How are you vamshi?\")\n",
    "translation"
   ]
  },
  {
   "cell_type": "code",
   "execution_count": 32,
   "id": "4200c629-d26b-4a1e-9e30-feb628e650f3",
   "metadata": {},
   "outputs": [
    {
     "data": {
      "text/plain": [
       "'مرحبا فامشي! كيف حالك ؟ كيف يسير اليوم'"
      ]
     },
     "execution_count": 32,
     "metadata": {},
     "output_type": "execute_result"
    }
   ],
   "source": [
    "from translate import Translator\n",
    "translator= Translator(to_lang=\"ar\")\n",
    "translation = translator.translate(\"Hlo Vamshi! How u are? how's the day going\")\n",
    "translation"
   ]
  },
  {
   "cell_type": "code",
   "execution_count": 34,
   "id": "4d45abd7-80ca-4bfe-9845-244a0af52779",
   "metadata": {},
   "outputs": [
    {
     "data": {
      "text/plain": [
       "'Გამარჯობა ვამში! როგორ ხარ? როგორ მიდის დღე'"
      ]
     },
     "execution_count": 34,
     "metadata": {},
     "output_type": "execute_result"
    }
   ],
   "source": [
    "from translate import Translator\n",
    "translator= Translator(to_lang=\"ka\")\n",
    "translation = translator.translate(\"Hlo Vamshi! How u are? how's the day going\")\n",
    "translation"
   ]
  },
  {
   "cell_type": "code",
   "execution_count": 39,
   "id": "f0195565-aeab-4ecc-b9e0-48134b96bd5a",
   "metadata": {},
   "outputs": [
    {
     "data": {
      "text/plain": [
       "'Hlo Vamshi! Wie geht es dir? Wie läuft der Tag?'"
      ]
     },
     "execution_count": 39,
     "metadata": {},
     "output_type": "execute_result"
    }
   ],
   "source": [
    "from translate import Translator\n",
    "translator= Translator(to_lang=\"de\")\n",
    "translation = translator.translate(\"Hlo Vamshi! How u are? how's the day going\")\n",
    "translation"
   ]
  },
  {
   "cell_type": "code",
   "execution_count": 40,
   "id": "3d4d0461-a026-4929-bb5f-ec1e479592bb",
   "metadata": {},
   "outputs": [
    {
     "data": {
      "text/plain": [
       "'Hlo Vamshi ！元気ですか？今日はどうですか？'"
      ]
     },
     "execution_count": 40,
     "metadata": {},
     "output_type": "execute_result"
    }
   ],
   "source": [
    "from translate import Translator\n",
    "translator= Translator(to_lang=\"ja\")\n",
    "translation = translator.translate(\"Hlo Vamshi! How u are? how's the day going\")\n",
    "translation"
   ]
  },
  {
   "cell_type": "code",
   "execution_count": 41,
   "id": "a5e0d0d3-b6be-442f-9dd4-3418dad3645a",
   "metadata": {},
   "outputs": [
    {
     "data": {
      "text/plain": [
       "'Hlo Vamshi! आपण कसे आहात? दिवस कसा आहे?'"
      ]
     },
     "execution_count": 41,
     "metadata": {},
     "output_type": "execute_result"
    }
   ],
   "source": [
    "from translate import Translator\n",
    "translator= Translator(to_lang=\"mr\")\n",
    "translation = translator.translate(\"Hlo Vamshi! How u are? how's the day going\")\n",
    "translation"
   ]
  },
  {
   "cell_type": "code",
   "execution_count": 42,
   "id": "2644a040-bd52-48e8-b27e-1a26f9fca928",
   "metadata": {},
   "outputs": [
    {
     "data": {
      "text/plain": [
       "'Хло Вамши! Как дела? Как проходит день'"
      ]
     },
     "execution_count": 42,
     "metadata": {},
     "output_type": "execute_result"
    }
   ],
   "source": [
    "from translate import Translator\n",
    "translator= Translator(to_lang=\"ru\")\n",
    "translation = translator.translate(\"Hlo Vamshi! How u are? how's the day going\")\n",
    "translation"
   ]
  },
  {
   "cell_type": "code",
   "execution_count": 43,
   "id": "bfe0e13f-4b40-4877-86fe-e958b97b1206",
   "metadata": {},
   "outputs": [
    {
     "data": {
      "text/plain": [
       "'Hlo Vamshi! Como você está? Como está o dia'"
      ]
     },
     "execution_count": 43,
     "metadata": {},
     "output_type": "execute_result"
    }
   ],
   "source": [
    "from translate import Translator\n",
    "translator= Translator(to_lang=\"pt\")\n",
    "translation = translator.translate(\"Hlo Vamshi! How u are? how's the day going\")\n",
    "translation"
   ]
  },
  {
   "cell_type": "code",
   "execution_count": 44,
   "id": "37f0733c-8959-42d5-a2dc-f6e381924901",
   "metadata": {},
   "outputs": [
    {
     "data": {
      "text/plain": [
       "'Hlo Vamshi! คุณเป็นอย่างไรบ้างวันนี้เป็นอย่างไรบ้าง'"
      ]
     },
     "execution_count": 44,
     "metadata": {},
     "output_type": "execute_result"
    }
   ],
   "source": [
    "from translate import Translator\n",
    "translator= Translator(to_lang=\"th\")\n",
    "translation = translator.translate(\"Hlo Vamshi! How u are? how's the day going\")\n",
    "translation"
   ]
  },
  {
   "cell_type": "code",
   "execution_count": 45,
   "id": "e276b6b4-9d84-4618-a47a-a63d48d0788b",
   "metadata": {},
   "outputs": [
    {
     "data": {
      "text/plain": [
       "'ہولو وامشی! آپ کیسے ہیں ؟ دن کیسا گزر رہا ہے'"
      ]
     },
     "execution_count": 45,
     "metadata": {},
     "output_type": "execute_result"
    }
   ],
   "source": [
    "from translate import Translator\n",
    "translator= Translator(to_lang=\"ur\")\n",
    "translation = translator.translate(\"Hlo Vamshi! How u are? how's the day going\")\n",
    "translation"
   ]
  },
  {
   "cell_type": "code",
   "execution_count": 46,
   "id": "548198f8-abb3-4925-aa66-81813e1228cc",
   "metadata": {},
   "outputs": [
    {
     "data": {
      "text/plain": [
       "'Hlo Vamshi! How are you? How is the day going'"
      ]
     },
     "execution_count": 46,
     "metadata": {},
     "output_type": "execute_result"
    }
   ],
   "source": [
    "from translate import Translator\n",
    "translator= Translator(to_lang=\"hi\")\n",
    "translation = translator.translate(\"Hlo Vamshi! How u are? how's the day going\")\n",
    "translation"
   ]
  },
  {
   "cell_type": "code",
   "execution_count": 47,
   "id": "2fe29bf9-cc6f-4a0b-ac35-b3e69f8e3c3c",
   "metadata": {},
   "outputs": [
    {
     "data": {
      "text/plain": [
       "'Hlo Vamshi! Hogy vagy? Hogy telik a napod?'"
      ]
     },
     "execution_count": 47,
     "metadata": {},
     "output_type": "execute_result"
    }
   ],
   "source": [
    "from translate import Translator\n",
    "translator= Translator(to_lang=\"hu\")\n",
    "translation = translator.translate(\"Hlo Vamshi! How u are? how's the day going\")\n",
    "translation"
   ]
  },
  {
   "cell_type": "code",
   "execution_count": 48,
   "id": "c1655d71-6623-4653-a289-29553f81ee29",
   "metadata": {},
   "outputs": [
    {
     "name": "stdout",
     "output_type": "stream",
     "text": [
      "Collecting python-vlc\n",
      "  Downloading python_vlc-3.0.21203-py3-none-any.whl.metadata (4.1 kB)\n",
      "Downloading python_vlc-3.0.21203-py3-none-any.whl (87 kB)\n",
      "Installing collected packages: python-vlc\n",
      "Successfully installed python-vlc-3.0.21203\n"
     ]
    }
   ],
   "source": [
    "!pip install python-vlc"
   ]
  },
  {
   "cell_type": "code",
   "execution_count": 49,
   "id": "76cd9271-8881-471b-af75-ab4c344eb48a",
   "metadata": {},
   "outputs": [
    {
     "data": {
      "text/plain": [
       "0"
      ]
     },
     "execution_count": 49,
     "metadata": {},
     "output_type": "execute_result"
    }
   ],
   "source": [
    "import vlc\n",
    "p = vlc.MediaPlayer(\"audio.mp3\")\n",
    "p.play()"
   ]
  },
  {
   "cell_type": "code",
   "execution_count": 50,
   "id": "c304004e-a43d-4d57-84c0-0cde9327bae6",
   "metadata": {},
   "outputs": [
    {
     "name": "stdout",
     "output_type": "stream",
     "text": [
      "Collecting playsound\n",
      "  Downloading playsound-1.3.0.tar.gz (7.7 kB)\n",
      "  Preparing metadata (setup.py): started\n",
      "  Preparing metadata (setup.py): finished with status 'done'\n",
      "Building wheels for collected packages: playsound\n",
      "  Building wheel for playsound (setup.py): started\n",
      "  Building wheel for playsound (setup.py): finished with status 'done'\n",
      "  Created wheel for playsound: filename=playsound-1.3.0-py3-none-any.whl size=7044 sha256=165ee6cfa1e9d7c2559e2f0d2d7d2b3f7cf691316bc339dacecc97c0525ff880\n",
      "  Stored in directory: c:\\users\\kesha\\appdata\\local\\pip\\cache\\wheels\\cf\\42\\ff\\7c587bae55eec67b909ca316b250d9b4daedbf272a3cbeb907\n",
      "Successfully built playsound\n",
      "Installing collected packages: playsound\n",
      "Successfully installed playsound-1.3.0\n"
     ]
    }
   ],
   "source": [
    "!pip install playsound"
   ]
  },
  {
   "cell_type": "code",
   "execution_count": 53,
   "id": "d05e6fb8-d55d-4db1-b9f2-fac26608cceb",
   "metadata": {},
   "outputs": [
    {
     "name": "stdout",
     "output_type": "stream",
     "text": [
      "playing sound using  playsound\n"
     ]
    }
   ],
   "source": [
    "import playsound as pl\n",
    "pl.playsound('audio.mp3')\n",
    "print('playing sound using  playsound')"
   ]
  },
  {
   "cell_type": "code",
   "execution_count": 54,
   "id": "54a5d959-380a-4a64-9f37-d7fb359da392",
   "metadata": {},
   "outputs": [
    {
     "data": {
      "text/plain": [
       "\u001b[1;31mSignature:\u001b[0m \u001b[0mpl\u001b[0m\u001b[1;33m.\u001b[0m\u001b[0mplaysound\u001b[0m\u001b[1;33m(\u001b[0m\u001b[0msound\u001b[0m\u001b[1;33m,\u001b[0m \u001b[0mblock\u001b[0m\u001b[1;33m=\u001b[0m\u001b[1;32mTrue\u001b[0m\u001b[1;33m)\u001b[0m\u001b[1;33m\u001b[0m\u001b[1;33m\u001b[0m\u001b[0m\n",
       "\u001b[1;31mDocstring:\u001b[0m\n",
       "Utilizes windll.winmm. Tested and known to work with MP3 and WAVE on\n",
       "Windows 7 with Python 2.7. Probably works with more file formats.\n",
       "Probably works on Windows XP thru Windows 10. Probably works with all\n",
       "versions of Python.\n",
       "\n",
       "Inspired by (but not copied from) Michael Gundlach <gundlach@gmail.com>'s mp3play:\n",
       "https://github.com/michaelgundlach/mp3play\n",
       "\n",
       "I never would have tried using windll.winmm without seeing his code.\n",
       "\u001b[1;31mFile:\u001b[0m      c:\\users\\kesha\\anaconda3\\lib\\site-packages\\playsound.py\n",
       "\u001b[1;31mType:\u001b[0m      function"
      ]
     },
     "metadata": {},
     "output_type": "display_data"
    }
   ],
   "source": [
    "import playsound as pl\n",
    "pl.playsound?"
   ]
  },
  {
   "cell_type": "code",
   "execution_count": 55,
   "id": "d19e502e-b5a4-41fc-85be-03b6603639bd",
   "metadata": {},
   "outputs": [
    {
     "name": "stdout",
     "output_type": "stream",
     "text": [
      "Collecting SpeechRecognition\n",
      "  Downloading SpeechRecognition-3.14.1-py3-none-any.whl.metadata (31 kB)\n",
      "Requirement already satisfied: typing-extensions in c:\\users\\kesha\\anaconda3\\lib\\site-packages (from SpeechRecognition) (4.11.0)\n",
      "Downloading SpeechRecognition-3.14.1-py3-none-any.whl (32.9 MB)\n",
      "   ---------------------------------------- 0.0/32.9 MB ? eta -:--:--\n",
      "   - -------------------------------------- 1.6/32.9 MB 9.3 MB/s eta 0:00:04\n",
      "   --- ------------------------------------ 3.1/32.9 MB 8.4 MB/s eta 0:00:04\n",
      "   ----- ---------------------------------- 4.7/32.9 MB 8.1 MB/s eta 0:00:04\n",
      "   ------- -------------------------------- 6.6/32.9 MB 7.9 MB/s eta 0:00:04\n",
      "   ---------- ----------------------------- 8.4/32.9 MB 8.1 MB/s eta 0:00:04\n",
      "   ----------- ---------------------------- 9.7/32.9 MB 8.1 MB/s eta 0:00:03\n",
      "   -------------- ------------------------- 11.5/32.9 MB 8.1 MB/s eta 0:00:03\n",
      "   --------------- ------------------------ 12.6/32.9 MB 7.9 MB/s eta 0:00:03\n",
      "   ---------------- ----------------------- 13.9/32.9 MB 7.6 MB/s eta 0:00:03\n",
      "   ----------------- ---------------------- 14.4/32.9 MB 7.5 MB/s eta 0:00:03\n",
      "   ----------------- ---------------------- 14.7/32.9 MB 6.8 MB/s eta 0:00:03\n",
      "   ------------------ --------------------- 15.2/32.9 MB 6.1 MB/s eta 0:00:03\n",
      "   ------------------- -------------------- 15.7/32.9 MB 5.8 MB/s eta 0:00:03\n",
      "   -------------------- ------------------- 16.8/32.9 MB 5.8 MB/s eta 0:00:03\n",
      "   --------------------- ------------------ 17.3/32.9 MB 5.6 MB/s eta 0:00:03\n",
      "   ---------------------- ----------------- 18.1/32.9 MB 5.4 MB/s eta 0:00:03\n",
      "   ---------------------- ----------------- 18.6/32.9 MB 5.4 MB/s eta 0:00:03\n",
      "   ---------------------- ----------------- 18.9/32.9 MB 5.1 MB/s eta 0:00:03\n",
      "   ----------------------- ---------------- 19.1/32.9 MB 4.9 MB/s eta 0:00:03\n",
      "   ----------------------- ---------------- 19.1/32.9 MB 4.9 MB/s eta 0:00:03\n",
      "   ----------------------- ---------------- 19.1/32.9 MB 4.9 MB/s eta 0:00:03\n",
      "   ----------------------- ---------------- 19.7/32.9 MB 4.3 MB/s eta 0:00:04\n",
      "   ----------------------- ---------------- 19.7/32.9 MB 4.3 MB/s eta 0:00:04\n",
      "   ------------------------ --------------- 19.9/32.9 MB 4.0 MB/s eta 0:00:04\n",
      "   ------------------------- -------------- 20.7/32.9 MB 4.0 MB/s eta 0:00:04\n",
      "   ------------------------- -------------- 21.2/32.9 MB 3.9 MB/s eta 0:00:03\n",
      "   -------------------------- ------------- 22.0/32.9 MB 3.9 MB/s eta 0:00:03\n",
      "   ---------------------------- ----------- 23.1/32.9 MB 3.9 MB/s eta 0:00:03\n",
      "   ----------------------------- ---------- 23.9/32.9 MB 4.0 MB/s eta 0:00:03\n",
      "   ----------------------------- ---------- 24.4/32.9 MB 3.9 MB/s eta 0:00:03\n",
      "   ------------------------------ --------- 25.2/32.9 MB 3.9 MB/s eta 0:00:02\n",
      "   ------------------------------- -------- 26.2/32.9 MB 3.9 MB/s eta 0:00:02\n",
      "   --------------------------------- ------ 27.3/32.9 MB 3.9 MB/s eta 0:00:02\n",
      "   --------------------------------- ------ 27.3/32.9 MB 3.9 MB/s eta 0:00:02\n",
      "   --------------------------------- ------ 27.8/32.9 MB 3.8 MB/s eta 0:00:02\n",
      "   --------------------------------- ------ 27.8/32.9 MB 3.8 MB/s eta 0:00:02\n",
      "   ---------------------------------- ----- 28.6/32.9 MB 3.7 MB/s eta 0:00:02\n",
      "   ----------------------------------- ---- 29.4/32.9 MB 3.7 MB/s eta 0:00:01\n",
      "   ------------------------------------- -- 30.4/32.9 MB 3.8 MB/s eta 0:00:01\n",
      "   ------------------------------------- -- 31.2/32.9 MB 3.7 MB/s eta 0:00:01\n",
      "   -------------------------------------- - 32.0/32.9 MB 3.8 MB/s eta 0:00:01\n",
      "   ---------------------------------------  32.8/32.9 MB 3.8 MB/s eta 0:00:01\n",
      "   ---------------------------------------- 32.9/32.9 MB 3.7 MB/s eta 0:00:00\n",
      "Installing collected packages: SpeechRecognition\n",
      "Successfully installed SpeechRecognition-3.14.1\n"
     ]
    }
   ],
   "source": [
    " !pip install SpeechRecognition"
   ]
  },
  {
   "cell_type": "code",
   "execution_count": 56,
   "id": "83db2a8d-b906-4b7e-8b1a-742a56986a37",
   "metadata": {},
   "outputs": [
    {
     "name": "stdout",
     "output_type": "stream",
     "text": [
      "Collecting PyAudio\n",
      "  Using cached PyAudio-0.2.14-cp312-cp312-win_amd64.whl.metadata (2.7 kB)\n",
      "Using cached PyAudio-0.2.14-cp312-cp312-win_amd64.whl (164 kB)\n",
      "Installing collected packages: PyAudio\n",
      "Successfully installed PyAudio-0.2.14\n"
     ]
    }
   ],
   "source": [
    "!pip install PyAudio"
   ]
  },
  {
   "cell_type": "code",
   "execution_count": 57,
   "id": "872dfc8f-23d3-449e-88d9-71e567c58639",
   "metadata": {},
   "outputs": [
    {
     "name": "stdout",
     "output_type": "stream",
     "text": [
      "Please say something\n"
     ]
    }
   ],
   "source": [
    "import speech_recognition as sr\n",
    "r=sr.Recognizer()\n",
    "with sr.Microphone() as source:\n",
    "    print(\"Please say something\")\n",
    "    audio = r.listen(source)\n",
    "try:\n",
    "    print(\"I think you said: \"+r.recognize_google(audio));\n",
    "except:\n",
    "    pass"
   ]
  },
  {
   "cell_type": "code",
   "execution_count": null,
   "id": "1d1b5f36-3565-482d-8573-826420480385",
   "metadata": {},
   "outputs": [],
   "source": []
  }
 ],
 "metadata": {
  "kernelspec": {
   "display_name": "Python 3 (ipykernel)",
   "language": "python",
   "name": "python3"
  },
  "language_info": {
   "codemirror_mode": {
    "name": "ipython",
    "version": 3
   },
   "file_extension": ".py",
   "mimetype": "text/x-python",
   "name": "python",
   "nbconvert_exporter": "python",
   "pygments_lexer": "ipython3",
   "version": "3.12.7"
  }
 },
 "nbformat": 4,
 "nbformat_minor": 5
}
